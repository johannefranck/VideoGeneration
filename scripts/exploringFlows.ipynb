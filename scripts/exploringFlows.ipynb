{
 "cells": [
  {
   "cell_type": "code",
   "execution_count": null,
   "id": "fee6165f",
   "metadata": {},
   "outputs": [],
   "source": [
    "import torch\n",
    "\n",
    "data = torch.load('/work3/s201390/VideoGeneration/data/apple/flows/right.pth')\n",
    "print(type(data), data.shape)\n"
   ]
  },
  {
   "cell_type": "markdown",
   "id": "d61c643f",
   "metadata": {},
   "source": [
    "EXISTING FLOW"
   ]
  },
  {
   "cell_type": "code",
   "execution_count": null,
   "id": "b6843212",
   "metadata": {},
   "outputs": [],
   "source": [
    "import torch\n",
    "import matplotlib.pyplot as plt\n",
    "import numpy as np\n",
    "\n",
    "# Load and squeeze batch dim\n",
    "flow = torch.load('/work3/s201390/VideoGeneration/data/apple/flows/right.pth')\n",
    "print(type(flow), flow.shape)\n",
    "flow = flow.squeeze(0).numpy()  # shape: (2, 512, 512)\n",
    "print(type(flow), flow.shape)\n",
    "# Extract dx and dy\n",
    "u = flow[0]  # horizontal flow\n",
    "v = flow[1]  # vertical flow\n",
    "\n",
    "# Subsample for cleaner visualization\n",
    "step = 20\n",
    "H, W = u.shape\n",
    "y, x = np.mgrid[0:H:step, 0:W:step]\n",
    "\n",
    "# Plot quiver\n",
    "plt.figure(figsize=(6, 6))\n",
    "plt.quiver(x, y, u[::step, ::step], -v[::step, ::step], color='r', scale=100, width=0.003)\n",
    "plt.title(\"Optical Flow (quiver plot)\")\n",
    "plt.axis(\"equal\")\n",
    "plt.grid(True)\n",
    "plt.show()\n"
   ]
  },
  {
   "cell_type": "markdown",
   "id": "eeb5600f",
   "metadata": {},
   "source": [
    "COSTUM FLOW"
   ]
  },
  {
   "cell_type": "code",
   "execution_count": null,
   "id": "1e6d953b",
   "metadata": {},
   "outputs": [],
   "source": [
    "import numpy as np\n",
    "import torch\n",
    "\n",
    "flow = torch.load('/work3/s204129/adlicv/project/VideoGeneration/assets/apple_right/flows/flow_7.pth')\n",
    "print(type(flow), flow.shape)\n",
    "\n",
    "\n",
    "import torch\n",
    "import matplotlib.pyplot as plt\n",
    "import numpy as np\n",
    "\n",
    "# Load and squeeze batch dim\n",
    "print(type(flow), flow.shape)\n",
    "flow = flow.squeeze(0).numpy()  # shape: (2, 512, 512)\n",
    "print(type(flow), flow.shape)\n",
    "# Extract dx and dy\n",
    "u = flow[1]  # horizontal flow\n",
    "v = flow[0]  # vertical flow\n",
    "\n",
    "# Subsample for cleaner visualization\n",
    "step = 20\n",
    "H, W = u.shape\n",
    "x, y = np.mgrid[0:H:step, 0:W:step]\n",
    "\n",
    "# Plot quiver\n",
    "plt.figure(figsize=(6, 6))\n",
    "plt.quiver(x, y, u[::step, ::step], -v[::step, ::step], color='r', scale=100, width=0.003)\n",
    "plt.title(\"Optical Flow (quiver plot)\")\n",
    "plt.axis(\"equal\")\n",
    "plt.grid(True)\n",
    "plt.show()\n"
   ]
  },
  {
   "cell_type": "markdown",
   "id": "7043d01d",
   "metadata": {},
   "source": [
    "# Exploring masks"
   ]
  },
  {
   "cell_type": "markdown",
   "id": "0b308db7",
   "metadata": {},
   "source": [
    "### Existing mask"
   ]
  },
  {
   "cell_type": "code",
   "execution_count": null,
   "id": "b628f64e",
   "metadata": {},
   "outputs": [],
   "source": [
    "import torch\n",
    "import matplotlib.pyplot as plt\n",
    "import numpy as np\n",
    "\n",
    "# Load and squeeze batch dim\n",
    "mask = torch.load('/work3/s204129/adlicv/project/VideoGeneration/data/topiary/flows/mask.pth')\n",
    "print(type(mask), mask.shape)"
   ]
  },
  {
   "cell_type": "code",
   "execution_count": null,
   "id": "c716ec7f",
   "metadata": {},
   "outputs": [],
   "source": [
    "data = torch.load('/work3/s204129/adlicv/project/VideoGeneration/data/topiary/flows/mask.pth')\n",
    "print(data.shape)\n",
    "print(data.min(), data.max())"
   ]
  },
  {
   "cell_type": "code",
   "execution_count": null,
   "id": "e0ef7c21",
   "metadata": {},
   "outputs": [],
   "source": [
    "import numpy as np\n",
    "import torch\n",
    "\n",
    "mask = torch.load('/work3/s204129/adlicv/project/VideoGeneration/assets/apple_right/masks/mask_7.pth')\n",
    "print(type(mask), mask.shape)\n",
    "\n"
   ]
  },
  {
   "cell_type": "code",
   "execution_count": null,
   "id": "8ca3270e",
   "metadata": {},
   "outputs": [],
   "source": [
    "mask.shape"
   ]
  },
  {
   "cell_type": "code",
   "execution_count": null,
   "id": "087e9059",
   "metadata": {},
   "outputs": [],
   "source": [
    "import torch\n",
    "import numpy as np\n",
    "import matplotlib.pyplot as plt\n",
    "from PIL import Image\n",
    "\n",
    "# --- Load masks ---\n",
    "mask = torch.load('/work3/s204129/adlicv/project/VideoGeneration/assets/apple_right/masks/mask_7.pth')  # (1, 4, 64, 64)\n",
    "mask = mask.numpy()[0][0]*1.  # (4, 64, 64)\n",
    "\n",
    "# --- Load background image ---\n",
    "background = np.array(Image.open('/work3/s204129/adlicv/project/VideoGeneration/assets/apple.png').resize((512, 512)).convert('RGB'))\n",
    "\n",
    "\n",
    "# --- Visualize the saved mask for confirmation ---\n",
    "upscaled_mask = np.array(Image.fromarray(mask * 255).resize((512, 512), Image.NEAREST))\n",
    "vis_overlay = background.copy()\n",
    "vis_overlay[upscaled_mask == 255] = [255, 0, 0]\n",
    "\n",
    "plt.figure(figsize=(6, 6))\n",
    "plt.imshow(vis_overlay)\n",
    "plt.title(\"Saved Mask Visualization\")\n",
    "plt.axis('off')\n",
    "plt.show()\n"
   ]
  },
  {
   "cell_type": "markdown",
   "id": "53c44fee",
   "metadata": {},
   "source": [
    "# What is that start.zt"
   ]
  },
  {
   "cell_type": "code",
   "execution_count": null,
   "id": "1e271d51",
   "metadata": {},
   "outputs": [],
   "source": [
    "start = torch.load('/work3/s204129/adlicv/project/VideoGeneration/data/topiary/start_zt.pth')\n",
    "print(type(start), start.shape)"
   ]
  }
 ],
 "metadata": {
  "kernelspec": {
   "display_name": "venv",
   "language": "python",
   "name": "python3"
  },
  "language_info": {
   "codemirror_mode": {
    "name": "ipython",
    "version": 3
   },
   "file_extension": ".py",
   "mimetype": "text/x-python",
   "name": "python",
   "nbconvert_exporter": "python",
   "pygments_lexer": "ipython3",
   "version": "3.10.14"
  }
 },
 "nbformat": 4,
 "nbformat_minor": 5
}
